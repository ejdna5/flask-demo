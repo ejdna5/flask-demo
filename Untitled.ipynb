{
 "cells": [
  {
   "cell_type": "code",
   "execution_count": null,
   "metadata": {
    "collapsed": false
   },
   "outputs": [],
   "source": [
    "import requests\n",
    "import pandas as pd\n",
    "tick='GOOG'\n",
    "tick=tick.upper()\n",
    "apiKey='DsfYw6GwZRN_j6Pq_cSW'\n",
    "startD='20170519'\n",
    "endD='20170618'\n",
    "getURL=\"https://www.quandl.com/api/v3/datasets/WIKI/%s/data.json\" %tick\n",
    "para=\"&api_key=%s&start_date=%s&end_date%s\" % (apiKey,startD,endD)\n",
    "r=requests.get(getURL,para)\n",
    "#if r.status_code != 200:\n",
    "#    return\"\"\n",
    "r1=r.json()\n",
    "rdf=pd.DataFrame(r1['dataset_data']['data'],columns=r1['dataset_data']['column_names'])\n",
    "rdf['Date'] = pd.to_datetime(rdf['Date'])\n",
    "\n"
   ]
  },
  {
   "cell_type": "code",
   "execution_count": null,
   "metadata": {
    "collapsed": false
   },
   "outputs": [],
   "source": [
    "from bokeh.io import show\n",
    "from bokeh.layouts import row\n",
    "from bokeh.plotting import figure\n",
    "from bokeh.embed import components\n",
    "output_notebook()\n",
    "\n",
    "x=rdf['Date']\n",
    "y=rdf['Close']\n",
    "p = figure(title=\"Closing price for each day of the past month\", plot_height=300, plot_width=600)\n",
    "r = p.line(x, y, color=\"#2222aa\", line_width=3)\n",
    "show(p, notebook_handle=True)"
   ]
  },
  {
   "cell_type": "code",
   "execution_count": null,
   "metadata": {
    "collapsed": true
   },
   "outputs": [],
   "source": []
  }
 ],
 "metadata": {
  "kernelspec": {
   "display_name": "Python 2",
   "language": "python",
   "name": "python2"
  },
  "language_info": {
   "codemirror_mode": {
    "name": "ipython",
    "version": 2
   },
   "file_extension": ".py",
   "mimetype": "text/x-python",
   "name": "python",
   "nbconvert_exporter": "python",
   "pygments_lexer": "ipython2",
   "version": "2.7.13"
  }
 },
 "nbformat": 4,
 "nbformat_minor": 2
}
